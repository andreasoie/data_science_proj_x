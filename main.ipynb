{
 "cells": [
  {
   "cell_type": "markdown",
   "id": "cebbd96a",
   "metadata": {},
   "source": [
    "# Simple Data Science Project for client X"
   ]
  },
  {
   "cell_type": "code",
   "execution_count": 7,
   "id": "dd8b38bc",
   "metadata": {},
   "outputs": [],
   "source": [
    "import pandas as pd\n",
    "import numpy as np\n",
    "\n",
    "# No warnings about setting value on copy of slice\n",
    "pd.options.mode.chained_assignment = None\n",
    "pd.set_option('display.max_columns', 60)\n",
    "\n",
    "# Vizu\n",
    "import seaborn as sns\n",
    "import matplotlib.pyplot as plt\n",
    "from IPython.core.pylabtools import figsize\n",
    "\n",
    "# Vizu settings\n",
    "%matplotlib inline\n",
    "plt.rcParams['font.size'] = 22\n",
    "sns.set(font_scale = 1)\n",
    "\n",
    "# Data prep and preproccessing\n",
    "from sklearn.model_selection import train_test_split\n",
    "from sklearn.preprocessing import MinMaxScaler\n",
    "\n",
    "# ML\n",
    "from sklearn.linear_model import LinearRegression, Ridge, Lasso, ElasticNet\n",
    "from sklearn.ensemble import RandomForestRegressor, GradientBoostingRegressor\n",
    "from sklearn.svm import SVR\n",
    "from sklearn.neighbors import KNeighborsRegressor\n",
    "\n",
    "# Hyperparams\n",
    "from sklearn.model_selection import RandomizedSearchCV"
   ]
  },
  {
   "cell_type": "markdown",
   "id": "7a72b13c",
   "metadata": {},
   "source": [
    "## Intro\n",
    "\n",
    "This is a simple mini data-science project I did last year for a anonymous client. It was only needed to display simple data analysis in the time span of a few hours. Below, I've rewritten a lot of the code / text / comments to generalize and tried by best to hide sensitive information by substituing variable names with replacements like 'xxx', 'yyy' etc ... I've also added comments to allow the reader to understand what is going on. \n",
    "\n",
    "NB: I might upload the uncensored notebook in the future whenever the information has become unrelevant. "
   ]
  },
  {
   "cell_type": "markdown",
   "id": "7b7ef233",
   "metadata": {},
   "source": [
    "## 1. The dataset\n",
    "X reports are submitted X from X that are X. The report is usually prepared by the X or X. The report is used to assess the X performance and includes data about the xxx, xxx, xxx, xxx, xxx and xxx more.\n",
    "\n",
    "The attached `xxx_reports.json` contains a stripped down version of N such xxx reports. Below is a brief description of the included columns: \n",
    "- `xxx`: \"description\"\n",
    "- `xxx`: \"description\"\n",
    "- `xxx`: \"description\"\n",
    "- `xxx`: \"description\"\n",
    "- `xxx`: \"description\"\n",
    "- `xxx`: \"description\"\n",
    "- `xxx`: \"description\"\n",
    "- `xxx`: \"description\"\n",
    "- `xxx`: \"description\" \n",
    "- `xxx`: \"description\" \n",
    "- `xxx`: \"description\"\n",
    "- `xxx`: \"description\" \n",
    "- `xxx`: \"description\""
   ]
  },
  {
   "cell_type": "markdown",
   "id": "a6b667c1",
   "metadata": {},
   "source": [
    "## 2. The assignment\n",
    "\n",
    "\n",
    "The project can very coarsely be divided into two phases:\n",
    "\n",
    "1. **Data exploration**: \n",
    "- Take a look at the attached noon report data and do a brief exploration of the data (visualisations are often useful for this purpose)- Humans create the reports, so watch out for bad or curious looking data like missing entries, outliers, and wrong data types.\n",
    "\n",
    "2. **Modelling**:\n",
    "- When we're finished cleaning / preparing the data, it's time to use it for modelling. \n",
    "- We want to predict the average X (`xxx`).\n",
    "- Some columns are relevant for this prediction, while others won't.\n",
    "- Essentially, we decide the inputs so effectivly, we decide:\n",
    "  - what kind of model to use\n",
    "  - how to split the data into train/dev/test sets\n",
    "  - which metric(s) to use to measure the model performance.\n",
    "- We also try to quantify which features (in the data or created by use) are important."
   ]
  },
  {
   "cell_type": "markdown",
   "id": "027b527c",
   "metadata": {},
   "source": [
    "### 3. Workflow:\n",
    "- **Do**:\n",
    "    - Write readable and maintainable code. (tidy notebooks are favo).\n",
    "    - Maintain good structure and modularity.\n",
    "- **Don't**:\n",
    "    - Spend too much time fine-tuning your model to squeeze out some extra performance."
   ]
  },
  {
   "cell_type": "markdown",
   "id": "d723c1ef",
   "metadata": {},
   "source": [
    "**Quick notes**:\n",
    "It is more important to use an adequate model for the problem at hand than to use the most sophisticated model possible. The exploratory part is just as important as the modelling part. This isn't the typical Kaggle competition. We rather focus on showing the DS process rather than tuning the performance of the model itself."
   ]
  },
  {
   "cell_type": "markdown",
   "id": "9e3a50e1",
   "metadata": {},
   "source": [
    "### 4. Solution\n"
   ]
  },
  {
   "cell_type": "markdown",
   "id": "1327e824",
   "metadata": {},
   "source": [
    "We start by immediately exploring the data, checkout the initial data points to get a feel for what we're working with."
   ]
  },
  {
   "cell_type": "code",
   "execution_count": null,
   "id": "2030b338",
   "metadata": {},
   "outputs": [],
   "source": [
    "reports = pd.read_json(\"xxx_reports.json\")\n",
    "reports.head()"
   ]
  },
  {
   "cell_type": "markdown",
   "id": "d58ec200",
   "metadata": {},
   "source": [
    "\"output was removed\""
   ]
  },
  {
   "cell_type": "code",
   "execution_count": null,
   "id": "6ecfcb5c",
   "metadata": {},
   "outputs": [],
   "source": [
    "reports.info()"
   ]
  },
  {
   "cell_type": "markdown",
   "id": "4e09de36",
   "metadata": {},
   "source": [
    "\"output was removed\""
   ]
  },
  {
   "cell_type": "markdown",
   "id": "96de9a26",
   "metadata": {},
   "source": [
    "Line below detects frequency of missing values (NaN in numeric arrays, None or NaN in object arrays, NaT in datetimelike)."
   ]
  },
  {
   "cell_type": "code",
   "execution_count": null,
   "id": "8c5e896d",
   "metadata": {},
   "outputs": [],
   "source": [
    "print(reports.isna().sum())"
   ]
  },
  {
   "cell_type": "markdown",
   "id": "b73d153a",
   "metadata": {},
   "source": [
    "### Initial notes\n",
    "- We're predicting a single numeric value ( REGRESSION PROBLEM )\n",
    "- A few wrong data types, possible missing values (NaN or inf)\n",
    "- \"variable_name\" = most important column (is already missing 8000+ values)"
   ]
  },
  {
   "cell_type": "code",
   "execution_count": null,
   "id": "b6e4c4e5",
   "metadata": {},
   "outputs": [],
   "source": [
    "xxx_distribution = reports['xxx'].value_counts(normalize=True)\n",
    "print(f\"Unique xxx: {len(reports['xxx'].unique())} / {len(reports)}\")"
   ]
  },
  {
   "cell_type": "markdown",
   "id": "2e2be295",
   "metadata": {},
   "source": [
    "\"output was removed\""
   ]
  },
  {
   "cell_type": "code",
   "execution_count": null,
   "id": "3961d1d3",
   "metadata": {},
   "outputs": [],
   "source": [
    "xxx_distribution = reports['xxx'].value_counts()\n",
    "print(\"Unique xxx: \", len(reports['xxx'].unique()), \"/ \", len(reports))"
   ]
  },
  {
   "cell_type": "markdown",
   "id": "fe6b4b85",
   "metadata": {},
   "source": [
    "\"output was removed\""
   ]
  },
  {
   "cell_type": "code",
   "execution_count": null,
   "id": "d7aca6b2",
   "metadata": {},
   "outputs": [],
   "source": [
    "# Top 10\n",
    "xxx_distribution.sort_values().tail(10)"
   ]
  },
  {
   "cell_type": "markdown",
   "id": "333e6440",
   "metadata": {},
   "source": [
    "\"output was removed\""
   ]
  },
  {
   "cell_type": "code",
   "execution_count": null,
   "id": "03d3584e",
   "metadata": {},
   "outputs": [],
   "source": [
    "# Checking out e.g. the 2nd frequent xxx, is the data identical for all instances?\n",
    "XXX_ID = 5866\n",
    "reports.loc[reports['xxx'] == XXX_ID].head()"
   ]
  },
  {
   "cell_type": "markdown",
   "id": "a48a56d6",
   "metadata": {},
   "source": [
    "\"output was removed\""
   ]
  },
  {
   "cell_type": "markdown",
   "id": "12e4d377",
   "metadata": {},
   "source": [
    "#### Observations\n",
    "- Can we merge measurements xxx1, xxx2, xxx3 and create a single-representative score? \n",
    "- Remove negative values from ID"
   ]
  },
  {
   "cell_type": "markdown",
   "id": "35d6e485",
   "metadata": {},
   "source": [
    "#### TODOs:\n",
    "- Maybe represent xxx1 / xxx2 as integers ( 0 / 1) ?\n",
    "- xxx1 and xxx2 should be int and float\n",
    "- remove NaN values\n",
    "- (don't know if xxx is relevant though)"
   ]
  },
  {
   "cell_type": "code",
   "execution_count": 14,
   "id": "4a746b0d",
   "metadata": {},
   "outputs": [
    {
     "data": {
      "text/plain": [
       "2.0    69729\n",
       "0.0    11426\n",
       "1.0      106\n",
       "Name: load, dtype: int64"
      ]
     },
     "execution_count": 14,
     "metadata": {},
     "output_type": "execute_result"
    }
   ],
   "source": [
    "reports['load'].value_counts()"
   ]
  },
  {
   "cell_type": "markdown",
   "id": "7aae8e6a",
   "metadata": {},
   "source": [
    "(deviation from orignal information?)\n",
    "\n",
    "Should be only L and B, what is PL? Research found no answers to this.\n",
    "Therefore, we need to make an estimated guess of saying PL = xxx (xxx)"
   ]
  },
  {
   "cell_type": "markdown",
   "id": "3c76fd93",
   "metadata": {},
   "source": [
    "I'll guess and formulate it as:\n",
    "- L (xxx)        = 2\n",
    "- PL (?)   = 1\n",
    "- B (xxx1/xxx2) = 0"
   ]
  },
  {
   "cell_type": "code",
   "execution_count": 11,
   "id": "9ed8f5fb",
   "metadata": {},
   "outputs": [],
   "source": [
    "reports[\"load\"] = reports[\"load\"].map(dict(L=2, PL=1, B=0)) # change the representations"
   ]
  },
  {
   "cell_type": "markdown",
   "id": "952533af",
   "metadata": {},
   "source": [
    "I don't have time to go over everything (only got a few hours), so taking what I think is most important\n",
    "to fix right now.\n",
    "\n",
    "(and possibly drop the unprocessed columns if they're not ready for training)"
   ]
  },
  {
   "cell_type": "code",
   "execution_count": 15,
   "id": "b40741c8",
   "metadata": {},
   "outputs": [],
   "source": [
    "# Convert objects to true floats\n",
    "\n",
    "for col in list(reports.columns):\n",
    "    if ('xxx1' in col or 'xxx2' in col or 'xxx3' in col):\n",
    "        reports[col] = pd.to_numeric(reports[col], errors=\"coerce\")\n",
    "        #reports[col] = reports[col].astype(float)"
   ]
  },
  {
   "cell_type": "code",
   "execution_count": null,
   "id": "8224a5a4",
   "metadata": {},
   "outputs": [],
   "source": [
    "reports.describe()"
   ]
  },
  {
   "cell_type": "markdown",
   "id": "3fd33210",
   "metadata": {},
   "source": [
    "\"output was removed\""
   ]
  },
  {
   "cell_type": "code",
   "execution_count": null,
   "id": "832d5480",
   "metadata": {},
   "outputs": [],
   "source": [
    "reports.isnull().sum()"
   ]
  },
  {
   "cell_type": "markdown",
   "id": "384ec711",
   "metadata": {},
   "source": [
    "\"output was removed\""
   ]
  },
  {
   "cell_type": "code",
   "execution_count": 6,
   "id": "363ddf05",
   "metadata": {},
   "outputs": [],
   "source": [
    "# (MAYBE: if > 50% missing > DROP )\n",
    "# \n",
    "# missing_df = missing_values_table(reports);\n",
    "# missing_columns = list(missing_df[missing_df['% of Total Values'] > 50].index)\n",
    "# print('We will remove %d columns.' % len(missing_columns))\n",
    "# \n",
    "# data = data.drop(columns = list(missing_columns))"
   ]
  },
  {
   "cell_type": "markdown",
   "id": "1fa0fcda",
   "metadata": {},
   "source": [
    "#### Preparing the xxx column (prediction target)"
   ]
  },
  {
   "cell_type": "code",
   "execution_count": 16,
   "id": "f7605e57",
   "metadata": {},
   "outputs": [
    {
     "data": {
      "text/plain": [
       "Text(0.5, 1.0, 'Average XXXX.')"
      ]
     },
     "execution_count": 16,
     "metadata": {},
     "output_type": "execute_result"
    },
    {
     "data": {
      "image/png": "[encoded data removed]",
      "text/plain": [
       "<Figure size 360x360 with 1 Axes>"
      ]
     },
     "metadata": {},
     "output_type": "display_data"
    }
   ],
   "source": [
    "figsize(5, 5)\n",
    "\n",
    "tmp_data = reports['xxx'].dropna().transpose() # preview purposes\n",
    "\n",
    "plt.style.use('bmh')\n",
    "plt.hist(tmp_data, bins = 100, edgecolor = 'k')\n",
    "plt.xlabel('XXX')\n",
    "plt.ylabel('XXX') \n",
    "plt.title('Average XXXX.')"
   ]
  },
  {
   "cell_type": "markdown",
   "id": "57d74da3",
   "metadata": {},
   "source": [
    "We can see that the distribution is extremely skewed as the xxx contains a few high values, so called outliers.\n",
    "\n",
    "We continue to review our data as we're processing and making adjustments"
   ]
  },
  {
   "cell_type": "code",
   "execution_count": null,
   "id": "ffe20146",
   "metadata": {},
   "outputs": [],
   "source": [
    "reports.describe()"
   ]
  },
  {
   "cell_type": "markdown",
   "id": "491b20b3",
   "metadata": {},
   "source": [
    "\"output was removed\""
   ]
  },
  {
   "cell_type": "code",
   "execution_count": 116,
   "id": "43405438",
   "metadata": {},
   "outputs": [
    {
     "data": {
      "text/plain": [
       "count    72993.000000\n",
       "mean        23.863046\n",
       "std        132.751854\n",
       "min          0.050000\n",
       "25%         18.800000\n",
       "50%         22.000000\n",
       "75%         25.730000\n",
       "max      27272.727273\n",
       "Name: avg_me, dtype: float64"
      ]
     },
     "execution_count": 116,
     "metadata": {},
     "output_type": "execute_result"
    }
   ],
   "source": [
    "reports['xxx'].describe()"
   ]
  },
  {
   "cell_type": "code",
   "execution_count": 117,
   "id": "d1cc4726",
   "metadata": {},
   "outputs": [
    {
     "data": {
      "text/plain": [
       "71876     4383.652174\n",
       "70760     4408.000000\n",
       "70714     4411.000000\n",
       "70802     4786.434783\n",
       "70934     4796.000000\n",
       "71506     5058.360656\n",
       "70980     5106.000000\n",
       "57514    11180.000000\n",
       "71548    14162.769231\n",
       "78935    27272.727273\n",
       "Name: avg_me, dtype: float64"
      ]
     },
     "execution_count": 117,
     "metadata": {},
     "output_type": "execute_result"
    }
   ],
   "source": [
    "reports[\"xxx\"].dropna().sort_values().tail(10)"
   ]
  },
  {
   "cell_type": "markdown",
   "id": "ed4dee79",
   "metadata": {},
   "source": [
    "In the following cells, we're just picking and inspecting few values to find out what's going on. "
   ]
  },
  {
   "cell_type": "code",
   "execution_count": null,
   "id": "b840923b",
   "metadata": {},
   "outputs": [],
   "source": [
    "reports.loc[reports[\"xxxx\"].values == 27272.727273, :]"
   ]
  },
  {
   "cell_type": "markdown",
   "id": "491b20b3",
   "metadata": {},
   "source": [
    "\"output was removed\""
   ]
  },
  {
   "cell_type": "code",
   "execution_count": null,
   "id": "4f258cdc",
   "metadata": {},
   "outputs": [],
   "source": [
    "reports.loc[reports[\"xxxx\"].values == 14162.769231, :]"
   ]
  },
  {
   "cell_type": "markdown",
   "id": "491b20b3",
   "metadata": {},
   "source": [
    "\"output was removed\""
   ]
  },
  {
   "cell_type": "code",
   "execution_count": null,
   "id": "04900b8a",
   "metadata": {},
   "outputs": [],
   "source": [
    "reports.loc[reports[\"xxxx\"].values == 11180.000000, :]"
   ]
  },
  {
   "cell_type": "markdown",
   "id": "491b20b3",
   "metadata": {},
   "source": [
    "\"output was removed\""
   ]
  },
  {
   "cell_type": "markdown",
   "id": "2a185afa",
   "metadata": {},
   "source": [
    "The most bottom values in the xxx columns contain either NaN -value or some super high value which to my understanding doesn't really makes sense. So this is something that should be handled as the xxx is the most important (target value) we're using for prediction later. "
   ]
  },
  {
   "cell_type": "markdown",
   "id": "e05a8860",
   "metadata": {},
   "source": [
    "Clean up the outliers in the xxx -column by following the goldon 3 X STD rule commonly used."
   ]
  },
  {
   "cell_type": "code",
   "execution_count": 17,
   "id": "2b5a4af4",
   "metadata": {},
   "outputs": [],
   "source": [
    "def remove_outliers(df: pd.DataFrame, col_name: str):\n",
    "    # Calculate first and third quartile\n",
    "    first_quartile = df[col_name].describe()['25%']\n",
    "    third_quartile = df[col_name].describe()['75%']\n",
    "    # Interquartile range\n",
    "    iqr = third_quartile - first_quartile\n",
    "\n",
    "    return df[(df[col_name] > (first_quartile - 3 * iqr)) &\n",
    "                (df[col_name] < (third_quartile + 3 * iqr))]"
   ]
  },
  {
   "cell_type": "code",
   "execution_count": 18,
   "id": "f32fd504",
   "metadata": {},
   "outputs": [],
   "source": [
    "def plot_pre_post_remove_outliers(df: pd.DataFrame, col_name: str):\n",
    "    if col_name is None:\n",
    "        return\n",
    "    elif df.dtypes[col_name] == \"object\":\n",
    "        return\n",
    "\n",
    "    fig, axs = plt.subplots(2)\n",
    "    fig.suptitle(col_name + \": PRE/POST\")\n",
    "    \n",
    "    # PRE\n",
    "    axs[0].hist(df[col_name].dropna(), bins = 20, edgecolor = 'black') #.dropna()\n",
    "    \n",
    "    tmp_data = remove_outliers(df, col_name)\n",
    "    \n",
    "    # POST\n",
    "    axs[1].hist(tmp_data[col_name].dropna(), bins = 20, edgecolor = 'black') # .dropna()\n"
   ]
  },
  {
   "cell_type": "markdown",
   "id": "75a2a723",
   "metadata": {},
   "source": [
    "##### NOTE\n",
    "A lot of special cases of data distribution, don't have time to clean them all."
   ]
  },
  {
   "cell_type": "code",
   "execution_count": 19,
   "id": "07ed7130",
   "metadata": {},
   "outputs": [],
   "source": [
    "reports = remove_outliers(reports, \"xxx\")"
   ]
  },
  {
   "cell_type": "code",
   "execution_count": 20,
   "id": "71d1476c",
   "metadata": {},
   "outputs": [
    {
     "data": {
      "text/plain": [
       "Text(0.5, 1.0, 'Average xxx distribution')"
      ]
     },
     "execution_count": 20,
     "metadata": {},
     "output_type": "execute_result"
    },
    {
     "data": {
      "image/png": "[encoded data removed]",
      "text/plain": [
       "<Figure size 432x432 with 1 Axes>"
      ]
     },
     "metadata": {},
     "output_type": "display_data"
    }
   ],
   "source": [
    "figsize(6, 6)\n",
    "plt.hist(reports['xxx'], bins = 20, edgecolor = 'black')\n",
    "plt.xlabel('xxx')\n",
    "plt.title('Average xxx distribution')"
   ]
  },
  {
   "cell_type": "markdown",
   "id": "f2340cff",
   "metadata": {},
   "source": [
    "Above pictures shows how the data looks like before and after cleaning. We now have a perfectly balanced values with a normal distribution."
   ]
  },
  {
   "cell_type": "markdown",
   "id": "04694581",
   "metadata": {},
   "source": [
    "Clean up the outliers in the perf_speed by following the 3 X STD rule commonly used."
   ]
  },
  {
   "cell_type": "code",
   "execution_count": 21,
   "id": "3a374ede",
   "metadata": {},
   "outputs": [],
   "source": [
    "reports = remove_outliers(reports, \"xxx\")"
   ]
  },
  {
   "cell_type": "code",
   "execution_count": 23,
   "id": "5cf39db1",
   "metadata": {},
   "outputs": [
    {
     "data": {
      "text/plain": [
       "Text(0.5, 1.0, 'Average xxx distribution')"
      ]
     },
     "execution_count": 23,
     "metadata": {},
     "output_type": "execute_result"
    },
    {
     "data": {
      "image/png": "[encoded data removed]",
      "text/plain": [
       "<Figure size 432x432 with 1 Axes>"
      ]
     },
     "metadata": {},
     "output_type": "display_data"
    }
   ],
   "source": [
    "figsize(6, 6)\n",
    "plt.hist(reports['xxx'], bins = 20, edgecolor = 'black')\n",
    "plt.xlabel('xxx')\n",
    "plt.title('Average xxx distribution')"
   ]
  },
  {
   "cell_type": "code",
   "execution_count": null,
   "id": "a8b68d69",
   "metadata": {},
   "outputs": [],
   "source": [
    "correlations_data = reports.corr()['xxx'].sort_values()\n",
    "print(correlations_data.head(15)) # 'Bad'\n",
    "print(correlations_data.tail(15)) # 'Good'"
   ]
  },
  {
   "cell_type": "markdown",
   "id": "491b20b3",
   "metadata": {},
   "source": [
    "\"output was removed\""
   ]
  },
  {
   "cell_type": "code",
   "execution_count": null,
   "id": "6d76c9d3",
   "metadata": {},
   "outputs": [],
   "source": [
    "reports.info()"
   ]
  },
  {
   "cell_type": "markdown",
   "id": "491b20b3",
   "metadata": {},
   "source": [
    "\"output was removed\""
   ]
  },
  {
   "cell_type": "markdown",
   "id": "7350eb3e",
   "metadata": {},
   "source": [
    "From our correlations_data we can see a few scores around +- 0 which indicates very low\n",
    "correlation between the given column and the xxx colum.\n",
    "\n",
    "Due to time at this point, I'll drop a few columns below due to one of the reasons:\n",
    "- 1. An object containing a lot of info (takes a lot of time to clean and prep)\n",
    "- 2. Low correlations with xxx\n",
    "- 3. Not fully investigated or cleaned (See plots above)"
   ]
  },
  {
   "cell_type": "code",
   "execution_count": 24,
   "id": "ac903b74",
   "metadata": {},
   "outputs": [],
   "source": [
    "reports = reports.drop([\n",
    "    \"xxx1\",\n",
    "    \"xxx2\",\n",
    "    \"xxx3\",\n",
    "    \"xxx4\",\n",
    "    \"xxx5\",\n",
    "    \"xxx6\"\n",
    "], axis=1)"
   ]
  },
  {
   "cell_type": "code",
   "execution_count": null,
   "id": "bf795c9b",
   "metadata": {},
   "outputs": [],
   "source": [
    "reports.info()"
   ]
  },
  {
   "cell_type": "markdown",
   "id": "491b20b3",
   "metadata": {},
   "source": [
    "\"output was removed\""
   ]
  },
  {
   "cell_type": "markdown",
   "id": "dc462f59",
   "metadata": {},
   "source": [
    "### Split into Train/Test"
   ]
  },
  {
   "cell_type": "code",
   "execution_count": 25,
   "id": "51700c73",
   "metadata": {},
   "outputs": [
    {
     "name": "stdout",
     "output_type": "stream",
     "text": [
      "(50779, 7)\n",
      "(21763, 7)\n",
      "(50779, 1)\n",
      "(21763, 1)\n"
     ]
    }
   ],
   "source": [
    "# Separate  training / test data\n",
    "features = reports.drop(columns='xxx') # drop out predictor variable\n",
    "targets = pd.DataFrame(reports['xxx']) # as its the target\n",
    "\n",
    "# Replace the inf and -inf with nan (just making sure)\n",
    "features = features.replace({np.inf: np.nan, -np.inf: np.nan})\n",
    "\n",
    "# Split into 70% training and 30% testing set (standard)\n",
    "X_train, X_test, y_train, y_test = train_test_split(features, targets, test_size = 0.3, random_state = 37)\n",
    "\n",
    "print(X_train.shape)\n",
    "print(X_test.shape)\n",
    "print(y_train.shape)\n",
    "print(y_test.shape)"
   ]
  },
  {
   "cell_type": "markdown",
   "id": "81f93e7f",
   "metadata": {},
   "source": [
    "### Model evaluation metric often used with regression models"
   ]
  },
  {
   "cell_type": "code",
   "execution_count": 27,
   "id": "a0f400d4",
   "metadata": {},
   "outputs": [],
   "source": [
    "# Function to calculate mean absolute error\n",
    "def mae(y_true, y_pred):\n",
    "    return np.mean(abs(y_true - y_pred))"
   ]
  },
  {
   "cell_type": "code",
   "execution_count": null,
   "id": "a34531c9",
   "metadata": {},
   "outputs": [],
   "source": [
    "baseline_guess = np.median(y_train)\n",
    "\n",
    "print(\"The baseline guess of xxx: \", baseline_guess)\n",
    "print(\"Baseline MAE on test set: \", mae(y_test, baseline_guess))"
   ]
  },
  {
   "cell_type": "markdown",
   "id": "491b20b3",
   "metadata": {},
   "source": [
    "\"output was removed\""
   ]
  },
  {
   "cell_type": "code",
   "execution_count": null,
   "id": "21c22e52",
   "metadata": {},
   "outputs": [],
   "source": [
    "X_train.head(10)"
   ]
  },
  {
   "cell_type": "markdown",
   "id": "491b20b3",
   "metadata": {},
   "source": [
    "\"output was removed\""
   ]
  },
  {
   "cell_type": "code",
   "execution_count": 26,
   "id": "57f97453",
   "metadata": {},
   "outputs": [
    {
     "data": {
      "text/plain": [
       "Text(0.5, 1.0, 'Average xxx')"
      ]
     },
     "execution_count": 26,
     "metadata": {},
     "output_type": "execute_result"
    },
    {
     "data": {
      "image/png": "[encoded data removed]",
      "text/plain": [
       "<Figure size 432x432 with 1 Axes>"
      ]
     },
     "metadata": {},
     "output_type": "display_data"
    }
   ],
   "source": [
    "figsize(6, 6)\n",
    "\n",
    "plt.style.use('bmh')\n",
    "plt.hist(y_train['xxx'].dropna(), bins = 100)\n",
    "plt.xlabel('xxx')\n",
    "plt.title('Average xxx')"
   ]
  },
  {
   "cell_type": "code",
   "execution_count": 29,
   "id": "7ab27296",
   "metadata": {},
   "outputs": [
    {
     "name": "stdout",
     "output_type": "stream",
     "text": [
      "(array([], dtype=int64), array([], dtype=int64))\n",
      "(array([], dtype=int64), array([], dtype=int64))\n"
     ]
    }
   ],
   "source": [
    "# Make sure all values are finite\n",
    "print(np.where(~np.isfinite(X_train)))\n",
    "print(np.where(~np.isfinite(X_test)))"
   ]
  },
  {
   "cell_type": "code",
   "execution_count": 30,
   "id": "6b487611",
   "metadata": {},
   "outputs": [],
   "source": [
    "scaler = MinMaxScaler(feature_range=(0, 1)) # Normalizer object"
   ]
  },
  {
   "cell_type": "code",
   "execution_count": 31,
   "id": "259c57c8",
   "metadata": {},
   "outputs": [],
   "source": [
    "# Fit on the training data\n",
    "scaler.fit(X_train)\n",
    "\n",
    "# Normalize both the training and testing data\n",
    "X_train = scaler.transform(X_train)\n",
    "X_test = scaler.transform(X_test)"
   ]
  },
  {
   "cell_type": "code",
   "execution_count": 32,
   "id": "707ada84",
   "metadata": {},
   "outputs": [],
   "source": [
    "# Convert y to one-dimensional array (vector)\n",
    "y_train = np.array(y_train).reshape((-1, ))\n",
    "y_test = np.array(y_test).reshape((-1, ))"
   ]
  },
  {
   "cell_type": "code",
   "execution_count": 33,
   "id": "20e4b08a",
   "metadata": {},
   "outputs": [
    {
     "data": {
      "text/html": [
       "<div>\n",
       "<style scoped>\n",
       "    .dataframe tbody tr th:only-of-type {\n",
       "        vertical-align: middle;\n",
       "    }\n",
       "\n",
       "    .dataframe tbody tr th {\n",
       "        vertical-align: top;\n",
       "    }\n",
       "\n",
       "    .dataframe thead th {\n",
       "        text-align: right;\n",
       "    }\n",
       "</style>\n",
       "<table border=\"1\" class=\"dataframe\">\n",
       "  <thead>\n",
       "    <tr style=\"text-align: right;\">\n",
       "      <th></th>\n",
       "      <th>0</th>\n",
       "      <th>1</th>\n",
       "      <th>2</th>\n",
       "      <th>3</th>\n",
       "      <th>4</th>\n",
       "      <th>5</th>\n",
       "      <th>6</th>\n",
       "    </tr>\n",
       "  </thead>\n",
       "  <tbody>\n",
       "    <tr>\n",
       "      <th>0</th>\n",
       "      <td>0.409129</td>\n",
       "      <td>0.063205</td>\n",
       "      <td>0.283932</td>\n",
       "      <td>0.942857</td>\n",
       "      <td>0.433560</td>\n",
       "      <td>0.338346</td>\n",
       "      <td>0.462466</td>\n",
       "    </tr>\n",
       "    <tr>\n",
       "      <th>1</th>\n",
       "      <td>0.447168</td>\n",
       "      <td>0.101580</td>\n",
       "      <td>0.496085</td>\n",
       "      <td>0.742857</td>\n",
       "      <td>0.535229</td>\n",
       "      <td>0.674436</td>\n",
       "      <td>0.613941</td>\n",
       "    </tr>\n",
       "    <tr>\n",
       "      <th>2</th>\n",
       "      <td>0.424345</td>\n",
       "      <td>0.126411</td>\n",
       "      <td>0.518870</td>\n",
       "      <td>0.714286</td>\n",
       "      <td>0.536671</td>\n",
       "      <td>0.714286</td>\n",
       "      <td>0.613941</td>\n",
       "    </tr>\n",
       "    <tr>\n",
       "      <th>3</th>\n",
       "      <td>0.551141</td>\n",
       "      <td>0.040632</td>\n",
       "      <td>0.589954</td>\n",
       "      <td>0.914286</td>\n",
       "      <td>0.639576</td>\n",
       "      <td>0.759398</td>\n",
       "      <td>0.613941</td>\n",
       "    </tr>\n",
       "    <tr>\n",
       "      <th>4</th>\n",
       "      <td>0.670330</td>\n",
       "      <td>0.063205</td>\n",
       "      <td>0.593250</td>\n",
       "      <td>0.942857</td>\n",
       "      <td>0.639473</td>\n",
       "      <td>0.777143</td>\n",
       "      <td>0.612601</td>\n",
       "    </tr>\n",
       "  </tbody>\n",
       "</table>\n",
       "</div>"
      ],
      "text/plain": [
       "          0         1         2         3         4         5         6\n",
       "0  0.409129  0.063205  0.283932  0.942857  0.433560  0.338346  0.462466\n",
       "1  0.447168  0.101580  0.496085  0.742857  0.535229  0.674436  0.613941\n",
       "2  0.424345  0.126411  0.518870  0.714286  0.536671  0.714286  0.613941\n",
       "3  0.551141  0.040632  0.589954  0.914286  0.639576  0.759398  0.613941\n",
       "4  0.670330  0.063205  0.593250  0.942857  0.639473  0.777143  0.612601"
      ]
     },
     "execution_count": 33,
     "metadata": {},
     "output_type": "execute_result"
    }
   ],
   "source": [
    "_tmp = pd.DataFrame(X_train)\n",
    "_tmp.head()"
   ]
  },
  {
   "cell_type": "code",
   "execution_count": 34,
   "id": "c493682d",
   "metadata": {},
   "outputs": [],
   "source": [
    "# Function to calculate mean absolute error\n",
    "def mae(y_true, y_pred):\n",
    "    return np.mean(abs(y_true - y_pred))\n",
    "\n",
    "# Takes in a model, trains the model, and evaluates the model on the test set\n",
    "def fit_and_evaluate(model):\n",
    "    \n",
    "    # Train the model\n",
    "    model.fit(X_train, y_train)\n",
    "    \n",
    "    # Make predictions and evalute\n",
    "    model_pred = model.predict(X_test)\n",
    "    model_mae = mae(y_test, model_pred)\n",
    "    \n",
    "    # Return the performance metric\n",
    "    return model_mae"
   ]
  },
  {
   "cell_type": "markdown",
   "id": "eae40379",
   "metadata": {},
   "source": [
    "Below, we briefly test out various models to see which one immediatly suits the problem better. Recall this is a regression problem."
   ]
  },
  {
   "cell_type": "code",
   "execution_count": 143,
   "id": "df785acb",
   "metadata": {},
   "outputs": [
    {
     "name": "stdout",
     "output_type": "stream",
     "text": [
      "Linear Regression: MAE = 2.8409\n"
     ]
    }
   ],
   "source": [
    "lr = LinearRegression()\n",
    "lr_mae = fit_and_evaluate(lr)\n",
    "\n",
    "print('Linear Regression: MAE = %0.4f' % lr_mae)"
   ]
  },
  {
   "cell_type": "code",
   "execution_count": 144,
   "id": "a2dd9d55",
   "metadata": {},
   "outputs": [
    {
     "name": "stdout",
     "output_type": "stream",
     "text": [
      "Random Forest: MAE = 1.7547\n"
     ]
    }
   ],
   "source": [
    "random_forest = RandomForestRegressor(random_state=6)\n",
    "random_forest_mae = fit_and_evaluate(random_forest)\n",
    "\n",
    "print('Random Forest: MAE = %0.4f' % random_forest_mae)"
   ]
  },
  {
   "cell_type": "code",
   "execution_count": 145,
   "id": "31439a78",
   "metadata": {},
   "outputs": [
    {
     "name": "stdout",
     "output_type": "stream",
     "text": [
      "Support Vector Machine: MAE = 2.7053\n"
     ]
    }
   ],
   "source": [
    "svm = SVR(C = 1000, gamma = 0.1)\n",
    "svm_mae = fit_and_evaluate(svm)\n",
    "\n",
    "print('Support Vector Machine: MAE = %0.4f' % svm_mae)"
   ]
  },
  {
   "cell_type": "code",
   "execution_count": 146,
   "id": "d1792bf2",
   "metadata": {},
   "outputs": [
    {
     "name": "stdout",
     "output_type": "stream",
     "text": [
      "Gradient Boosted: MAE = 2.4731\n"
     ]
    }
   ],
   "source": [
    "gradient_boosted = GradientBoostingRegressor(random_state=60)\n",
    "gradient_boosted_mae = fit_and_evaluate(gradient_boosted)\n",
    "\n",
    "print('Gradient Boosted: MAE = %0.4f' % gradient_boosted_mae)"
   ]
  },
  {
   "cell_type": "code",
   "execution_count": 147,
   "id": "812aeb83",
   "metadata": {},
   "outputs": [
    {
     "name": "stdout",
     "output_type": "stream",
     "text": [
      "K-Nearest Neighbors: MAE = 2.1701\n"
     ]
    }
   ],
   "source": [
    "knn = KNeighborsRegressor(n_neighbors=10)\n",
    "knn_mae = fit_and_evaluate(knn)\n",
    "\n",
    "print('K-Nearest Neighbors: MAE = %0.4f' % knn_mae)\n"
   ]
  },
  {
   "cell_type": "code",
   "execution_count": 148,
   "id": "3ed3073e",
   "metadata": {},
   "outputs": [
    {
     "name": "stdout",
     "output_type": "stream",
     "text": [
      "Lasso Regression: MAE = 3.9440\n"
     ]
    }
   ],
   "source": [
    "lasso = Lasso()\n",
    "lassso_mae = fit_and_evaluate(lasso)\n",
    "\n",
    "print('Lasso Regression: MAE = %0.4f' % lassso_mae)"
   ]
  },
  {
   "cell_type": "code",
   "execution_count": 149,
   "id": "b0838d23",
   "metadata": {},
   "outputs": [
    {
     "name": "stdout",
     "output_type": "stream",
     "text": [
      "Ridge Regression: MAE = 2.8416\n"
     ]
    }
   ],
   "source": [
    "ridge = Ridge()\n",
    "ridge_mae = fit_and_evaluate(ridge)\n",
    "\n",
    "print('Ridge Regression: MAE = %0.4f' % ridge_mae)"
   ]
  },
  {
   "cell_type": "code",
   "execution_count": 150,
   "id": "fa99f9b2",
   "metadata": {},
   "outputs": [
    {
     "name": "stdout",
     "output_type": "stream",
     "text": [
      "ElasticNet: MAE = 3.9440\n"
     ]
    }
   ],
   "source": [
    "ela_net = ElasticNet()\n",
    "ela_net_mae = fit_and_evaluate(ela_net)\n",
    "\n",
    "print('ElasticNet: MAE = %0.4f' % ela_net_mae)"
   ]
  },
  {
   "cell_type": "markdown",
   "id": "2b986aea",
   "metadata": {},
   "source": [
    "Let's continue with the RandomForestRegressor and give it some light tuning."
   ]
  },
  {
   "cell_type": "code",
   "execution_count": 52,
   "id": "6c6b6421",
   "metadata": {},
   "outputs": [],
   "source": [
    "forest_model = RandomForestRegressor(random_state=6)"
   ]
  },
  {
   "cell_type": "code",
   "execution_count": 53,
   "id": "2ccca59b",
   "metadata": {},
   "outputs": [
    {
     "name": "stdout",
     "output_type": "stream",
     "text": [
      ">> bootstrap : True\n",
      ">> ccp_alpha : 0.0\n",
      ">> criterion : squared_error\n",
      ">> max_depth : None\n",
      ">> max_features : auto\n",
      ">> max_leaf_nodes : None\n",
      ">> max_samples : None\n",
      ">> min_impurity_decrease : 0.0\n",
      ">> min_samples_leaf : 1\n",
      ">> min_samples_split : 2\n",
      ">> min_weight_fraction_leaf : 0.0\n",
      ">> n_estimators : 100\n",
      ">> n_jobs : None\n",
      ">> oob_score : False\n",
      ">> random_state : 6\n",
      ">> verbose : 0\n",
      ">> warm_start : False\n"
     ]
    }
   ],
   "source": [
    "for k,v in forest_model.get_params().items():\n",
    "    print(f\">> {k} : {v}\")"
   ]
  },
  {
   "cell_type": "markdown",
   "id": "d5b8690e",
   "metadata": {},
   "source": [
    "### Finding model params - RandomizedSearchCV\n",
    "Define a grid of hyperparameter ranges, and randomly sample from the grid, performing K-Fold CV with each combination of values"
   ]
  },
  {
   "cell_type": "code",
   "execution_count": 54,
   "id": "f7a730ad",
   "metadata": {},
   "outputs": [],
   "source": [
    "n_estimators = [int(x) for x in np.linspace(start = 200, stop = 2000, num = 10)]\n",
    "max_features = ['auto', 'sqrt']\n",
    "max_depth = [int(x) for x in np.linspace(10, 110, num = 11)]\n",
    "max_depth.append(None)\n",
    "min_samples_split = [2, 5, 10]\n",
    "min_samples_leaf = [1, 2, 4]\n",
    "bootstrap = [True, False]\n",
    "\n",
    "random_123 = {\n",
    "    'n_estimators': n_estimators,\n",
    "    'max_features': max_features,\n",
    "    'max_depth': max_depth,\n",
    "    'min_samples_split': min_samples_split,\n",
    "    'min_samples_leaf': min_samples_leaf,\n",
    "    'bootstrap': bootstrap\n",
    "}"
   ]
  },
  {
   "cell_type": "code",
   "execution_count": 55,
   "id": "f0c33f8b",
   "metadata": {},
   "outputs": [],
   "source": [
    "random_grid = {\n",
    "    'bootstrap': [True, False],\n",
    "    'max_depth': [10, 15, None],\n",
    "    'max_features': ['auto', 'sqrt', 'log2'],\n",
    "    'min_samples_leaf': [4, 6, 10],\n",
    "    'min_samples_split': [2, 4, 8],\n",
    "    'n_estimators': [100, 1000, 2000]\n",
    "}"
   ]
  },
  {
   "cell_type": "markdown",
   "id": "d539ae20",
   "metadata": {},
   "source": [
    "2\\*3\\*3\\*3\\*3\\*3 = 486 different settings !! (not testing them all though)  "
   ]
  },
  {
   "cell_type": "code",
   "execution_count": 56,
   "id": "a8bc3b97",
   "metadata": {},
   "outputs": [],
   "source": [
    "# Random search with 4-fold cross validation # n_iter = 100, cv = 3, verbose=2, random_state=42\n",
    "random_cv = RandomizedSearchCV(\n",
    "    estimator=forest_model,\n",
    "    param_distributions=random_123,\n",
    "    cv=4,\n",
    "    n_iter=5, \n",
    "    scoring = \"neg_mean_absolute_error\",\n",
    "    n_jobs = -1,\n",
    "    verbose = 1, \n",
    "    return_train_score = True,\n",
    "    random_state=6\n",
    ")"
   ]
  },
  {
   "cell_type": "code",
   "execution_count": 57,
   "id": "ce68402e",
   "metadata": {},
   "outputs": [
    {
     "name": "stdout",
     "output_type": "stream",
     "text": [
      ">> cv : 4\n",
      ">> error_score : nan\n",
      ">> estimator__bootstrap : True\n",
      ">> estimator__ccp_alpha : 0.0\n",
      ">> estimator__criterion : squared_error\n",
      ">> estimator__max_depth : None\n",
      ">> estimator__max_features : auto\n",
      ">> estimator__max_leaf_nodes : None\n",
      ">> estimator__max_samples : None\n",
      ">> estimator__min_impurity_decrease : 0.0\n",
      ">> estimator__min_samples_leaf : 1\n",
      ">> estimator__min_samples_split : 2\n",
      ">> estimator__min_weight_fraction_leaf : 0.0\n",
      ">> estimator__n_estimators : 100\n",
      ">> estimator__n_jobs : None\n",
      ">> estimator__oob_score : False\n",
      ">> estimator__random_state : 6\n",
      ">> estimator__verbose : 0\n",
      ">> estimator__warm_start : False\n",
      ">> estimator : RandomForestRegressor(random_state=6)\n",
      ">> n_iter : 5\n",
      ">> n_jobs : -1\n",
      ">> param_distributions : {'n_estimators': [200, 400, 600, 800, 1000, 1200, 1400, 1600, 1800, 2000], 'max_features': ['auto', 'sqrt'], 'max_depth': [10, 20, 30, 40, 50, 60, 70, 80, 90, 100, 110, None], 'min_samples_split': [2, 5, 10], 'min_samples_leaf': [1, 2, 4], 'bootstrap': [True, False]}\n",
      ">> pre_dispatch : 2*n_jobs\n",
      ">> random_state : 6\n",
      ">> refit : True\n",
      ">> return_train_score : True\n",
      ">> scoring : neg_mean_absolute_error\n",
      ">> verbose : 1\n"
     ]
    }
   ],
   "source": [
    "for k,v in random_cv.get_params().items():\n",
    "    print(f\">> {k} : {v}\")"
   ]
  },
  {
   "cell_type": "code",
   "execution_count": 58,
   "id": "15f846d9",
   "metadata": {},
   "outputs": [
    {
     "name": "stdout",
     "output_type": "stream",
     "text": [
      "Fitting 4 folds for each of 5 candidates, totalling 20 fits\n"
     ]
    },
    {
     "data": {
      "text/plain": [
       "RandomizedSearchCV(cv=4, estimator=RandomForestRegressor(random_state=6),\n",
       "                   n_iter=5, n_jobs=-1,\n",
       "                   param_distributions={'bootstrap': [True, False],\n",
       "                                        'max_depth': [10, 20, 30, 40, 50, 60,\n",
       "                                                      70, 80, 90, 100, 110,\n",
       "                                                      None],\n",
       "                                        'max_features': ['auto', 'sqrt'],\n",
       "                                        'min_samples_leaf': [1, 2, 4],\n",
       "                                        'min_samples_split': [2, 5, 10],\n",
       "                                        'n_estimators': [200, 400, 600, 800,\n",
       "                                                         1000, 1200, 1400, 1600,\n",
       "                                                         1800, 2000]},\n",
       "                   random_state=6, return_train_score=True,\n",
       "                   scoring='neg_mean_absolute_error', verbose=1)"
      ]
     },
     "execution_count": 58,
     "metadata": {},
     "output_type": "execute_result"
    }
   ],
   "source": [
    "random_cv.fit(X_train, y_train)"
   ]
  },
  {
   "cell_type": "code",
   "execution_count": 59,
   "id": "c9aaab4e",
   "metadata": {},
   "outputs": [
    {
     "data": {
      "text/html": [
       "<div>\n",
       "<style scoped>\n",
       "    .dataframe tbody tr th:only-of-type {\n",
       "        vertical-align: middle;\n",
       "    }\n",
       "\n",
       "    .dataframe tbody tr th {\n",
       "        vertical-align: top;\n",
       "    }\n",
       "\n",
       "    .dataframe thead th {\n",
       "        text-align: right;\n",
       "    }\n",
       "</style>\n",
       "<table border=\"1\" class=\"dataframe\">\n",
       "  <thead>\n",
       "    <tr style=\"text-align: right;\">\n",
       "      <th></th>\n",
       "      <th>mean_fit_time</th>\n",
       "      <th>std_fit_time</th>\n",
       "      <th>mean_score_time</th>\n",
       "      <th>std_score_time</th>\n",
       "      <th>param_n_estimators</th>\n",
       "      <th>param_min_samples_split</th>\n",
       "      <th>param_min_samples_leaf</th>\n",
       "      <th>param_max_features</th>\n",
       "      <th>param_max_depth</th>\n",
       "      <th>param_bootstrap</th>\n",
       "      <th>params</th>\n",
       "      <th>split0_test_score</th>\n",
       "      <th>split1_test_score</th>\n",
       "      <th>split2_test_score</th>\n",
       "      <th>split3_test_score</th>\n",
       "      <th>mean_test_score</th>\n",
       "      <th>std_test_score</th>\n",
       "      <th>rank_test_score</th>\n",
       "      <th>split0_train_score</th>\n",
       "      <th>split1_train_score</th>\n",
       "      <th>split2_train_score</th>\n",
       "      <th>split3_train_score</th>\n",
       "      <th>mean_train_score</th>\n",
       "      <th>std_train_score</th>\n",
       "    </tr>\n",
       "  </thead>\n",
       "  <tbody>\n",
       "    <tr>\n",
       "      <th>4</th>\n",
       "      <td>64.817620</td>\n",
       "      <td>0.377702</td>\n",
       "      <td>6.957006</td>\n",
       "      <td>0.108599</td>\n",
       "      <td>1800</td>\n",
       "      <td>2</td>\n",
       "      <td>2</td>\n",
       "      <td>sqrt</td>\n",
       "      <td>50</td>\n",
       "      <td>True</td>\n",
       "      <td>{'n_estimators': 1800, 'min_samples_split': 2,...</td>\n",
       "      <td>-1.789847</td>\n",
       "      <td>-1.804443</td>\n",
       "      <td>-1.756506</td>\n",
       "      <td>-1.748016</td>\n",
       "      <td>-1.774703</td>\n",
       "      <td>0.023223</td>\n",
       "      <td>1</td>\n",
       "      <td>-1.214241</td>\n",
       "      <td>-1.210424</td>\n",
       "      <td>-1.226648</td>\n",
       "      <td>-1.220349</td>\n",
       "      <td>-1.217915</td>\n",
       "      <td>0.006160</td>\n",
       "    </tr>\n",
       "    <tr>\n",
       "      <th>2</th>\n",
       "      <td>94.147914</td>\n",
       "      <td>0.927279</td>\n",
       "      <td>2.869153</td>\n",
       "      <td>0.083787</td>\n",
       "      <td>1000</td>\n",
       "      <td>10</td>\n",
       "      <td>1</td>\n",
       "      <td>auto</td>\n",
       "      <td>None</td>\n",
       "      <td>True</td>\n",
       "      <td>{'n_estimators': 1000, 'min_samples_split': 10...</td>\n",
       "      <td>-1.807827</td>\n",
       "      <td>-1.824559</td>\n",
       "      <td>-1.777088</td>\n",
       "      <td>-1.771557</td>\n",
       "      <td>-1.795258</td>\n",
       "      <td>0.021843</td>\n",
       "      <td>2</td>\n",
       "      <td>-1.218235</td>\n",
       "      <td>-1.216766</td>\n",
       "      <td>-1.234356</td>\n",
       "      <td>-1.230390</td>\n",
       "      <td>-1.224937</td>\n",
       "      <td>0.007585</td>\n",
       "    </tr>\n",
       "    <tr>\n",
       "      <th>1</th>\n",
       "      <td>145.046011</td>\n",
       "      <td>2.126034</td>\n",
       "      <td>9.134130</td>\n",
       "      <td>2.409357</td>\n",
       "      <td>1600</td>\n",
       "      <td>5</td>\n",
       "      <td>2</td>\n",
       "      <td>auto</td>\n",
       "      <td>20</td>\n",
       "      <td>True</td>\n",
       "      <td>{'n_estimators': 1600, 'min_samples_split': 5,...</td>\n",
       "      <td>-1.821449</td>\n",
       "      <td>-1.839026</td>\n",
       "      <td>-1.792696</td>\n",
       "      <td>-1.794275</td>\n",
       "      <td>-1.811862</td>\n",
       "      <td>0.019406</td>\n",
       "      <td>3</td>\n",
       "      <td>-1.211475</td>\n",
       "      <td>-1.210800</td>\n",
       "      <td>-1.231333</td>\n",
       "      <td>-1.239738</td>\n",
       "      <td>-1.223337</td>\n",
       "      <td>0.012558</td>\n",
       "    </tr>\n",
       "    <tr>\n",
       "      <th>3</th>\n",
       "      <td>41.389540</td>\n",
       "      <td>0.424916</td>\n",
       "      <td>2.890998</td>\n",
       "      <td>0.070996</td>\n",
       "      <td>1200</td>\n",
       "      <td>2</td>\n",
       "      <td>4</td>\n",
       "      <td>sqrt</td>\n",
       "      <td>20</td>\n",
       "      <td>True</td>\n",
       "      <td>{'n_estimators': 1200, 'min_samples_split': 2,...</td>\n",
       "      <td>-1.893567</td>\n",
       "      <td>-1.897853</td>\n",
       "      <td>-1.852837</td>\n",
       "      <td>-1.855290</td>\n",
       "      <td>-1.874887</td>\n",
       "      <td>0.020896</td>\n",
       "      <td>4</td>\n",
       "      <td>-1.588278</td>\n",
       "      <td>-1.580626</td>\n",
       "      <td>-1.602690</td>\n",
       "      <td>-1.602449</td>\n",
       "      <td>-1.593511</td>\n",
       "      <td>0.009454</td>\n",
       "    </tr>\n",
       "    <tr>\n",
       "      <th>0</th>\n",
       "      <td>52.597009</td>\n",
       "      <td>0.617205</td>\n",
       "      <td>1.292638</td>\n",
       "      <td>0.101615</td>\n",
       "      <td>400</td>\n",
       "      <td>2</td>\n",
       "      <td>4</td>\n",
       "      <td>auto</td>\n",
       "      <td>40</td>\n",
       "      <td>False</td>\n",
       "      <td>{'n_estimators': 400, 'min_samples_split': 2, ...</td>\n",
       "      <td>-2.068780</td>\n",
       "      <td>-2.044510</td>\n",
       "      <td>-1.999353</td>\n",
       "      <td>-1.998086</td>\n",
       "      <td>-2.027682</td>\n",
       "      <td>0.030210</td>\n",
       "      <td>5</td>\n",
       "      <td>-1.332302</td>\n",
       "      <td>-1.327413</td>\n",
       "      <td>-1.341940</td>\n",
       "      <td>-1.318088</td>\n",
       "      <td>-1.329936</td>\n",
       "      <td>0.008609</td>\n",
       "    </tr>\n",
       "  </tbody>\n",
       "</table>\n",
       "</div>"
      ],
      "text/plain": [
       "   mean_fit_time  std_fit_time  mean_score_time  std_score_time  \\\n",
       "4      64.817620      0.377702         6.957006        0.108599   \n",
       "2      94.147914      0.927279         2.869153        0.083787   \n",
       "1     145.046011      2.126034         9.134130        2.409357   \n",
       "3      41.389540      0.424916         2.890998        0.070996   \n",
       "0      52.597009      0.617205         1.292638        0.101615   \n",
       "\n",
       "  param_n_estimators param_min_samples_split param_min_samples_leaf  \\\n",
       "4               1800                       2                      2   \n",
       "2               1000                      10                      1   \n",
       "1               1600                       5                      2   \n",
       "3               1200                       2                      4   \n",
       "0                400                       2                      4   \n",
       "\n",
       "  param_max_features param_max_depth param_bootstrap  \\\n",
       "4               sqrt              50            True   \n",
       "2               auto            None            True   \n",
       "1               auto              20            True   \n",
       "3               sqrt              20            True   \n",
       "0               auto              40           False   \n",
       "\n",
       "                                              params  split0_test_score  \\\n",
       "4  {'n_estimators': 1800, 'min_samples_split': 2,...          -1.789847   \n",
       "2  {'n_estimators': 1000, 'min_samples_split': 10...          -1.807827   \n",
       "1  {'n_estimators': 1600, 'min_samples_split': 5,...          -1.821449   \n",
       "3  {'n_estimators': 1200, 'min_samples_split': 2,...          -1.893567   \n",
       "0  {'n_estimators': 400, 'min_samples_split': 2, ...          -2.068780   \n",
       "\n",
       "   split1_test_score  split2_test_score  split3_test_score  mean_test_score  \\\n",
       "4          -1.804443          -1.756506          -1.748016        -1.774703   \n",
       "2          -1.824559          -1.777088          -1.771557        -1.795258   \n",
       "1          -1.839026          -1.792696          -1.794275        -1.811862   \n",
       "3          -1.897853          -1.852837          -1.855290        -1.874887   \n",
       "0          -2.044510          -1.999353          -1.998086        -2.027682   \n",
       "\n",
       "   std_test_score  rank_test_score  split0_train_score  split1_train_score  \\\n",
       "4        0.023223                1           -1.214241           -1.210424   \n",
       "2        0.021843                2           -1.218235           -1.216766   \n",
       "1        0.019406                3           -1.211475           -1.210800   \n",
       "3        0.020896                4           -1.588278           -1.580626   \n",
       "0        0.030210                5           -1.332302           -1.327413   \n",
       "\n",
       "   split2_train_score  split3_train_score  mean_train_score  std_train_score  \n",
       "4           -1.226648           -1.220349         -1.217915         0.006160  \n",
       "2           -1.234356           -1.230390         -1.224937         0.007585  \n",
       "1           -1.231333           -1.239738         -1.223337         0.012558  \n",
       "3           -1.602690           -1.602449         -1.593511         0.009454  \n",
       "0           -1.341940           -1.318088         -1.329936         0.008609  "
      ]
     },
     "execution_count": 59,
     "metadata": {},
     "output_type": "execute_result"
    }
   ],
   "source": [
    "# Get all of the CV results and sort by performance\n",
    "random_results = pd.DataFrame(random_cv.cv_results_).sort_values('mean_test_score', ascending = False)\n",
    "random_results.head(5)"
   ]
  },
  {
   "cell_type": "code",
   "execution_count": 60,
   "id": "62695a95",
   "metadata": {},
   "outputs": [
    {
     "data": {
      "text/plain": [
       "RandomForestRegressor(max_depth=50, max_features='sqrt', min_samples_leaf=2,\n",
       "                      n_estimators=1800, random_state=6)"
      ]
     },
     "execution_count": 60,
     "metadata": {},
     "output_type": "execute_result"
    }
   ],
   "source": [
    "random_cv.best_estimator_"
   ]
  },
  {
   "cell_type": "code",
   "execution_count": 61,
   "id": "a51c67db",
   "metadata": {},
   "outputs": [
    {
     "data": {
      "image/png": "[encoded data removed]",
      "text/plain": [
       "<Figure size 576x576 with 1 Axes>"
      ]
     },
     "metadata": {},
     "output_type": "display_data"
    }
   ],
   "source": [
    "\n",
    "# Get the results into a dataframe\n",
    "results = pd.DataFrame(random_cv.cv_results_)\n",
    "\n",
    "# Plot the training and testing error vs number of trees, whats the bets choise (?)\n",
    "figsize(8, 8)\n",
    "plt.style.use('bmh')\n",
    "plt.plot(results['param_n_estimators'], -1 * results['mean_test_score'], label = 'Testing Error')\n",
    "plt.plot(results['param_n_estimators'], -1 * results['mean_train_score'], label = 'Training Error')\n",
    "plt.xlabel('Number of Trees'); plt.ylabel('Mean Abosolute Error'); plt.legend();\n",
    "plt.title('Performance vs Number of Trees');"
   ]
  },
  {
   "cell_type": "markdown",
   "id": "7f002938",
   "metadata": {},
   "source": [
    "## Training"
   ]
  },
  {
   "cell_type": "code",
   "execution_count": 65,
   "id": "09370dce",
   "metadata": {},
   "outputs": [],
   "source": [
    "forest_model = RandomForestRegressor(random_state=6)\n",
    "final_model = random_cv.best_estimator_"
   ]
  },
  {
   "cell_type": "code",
   "execution_count": 66,
   "id": "5a4ed634",
   "metadata": {},
   "outputs": [
    {
     "name": "stdout",
     "output_type": "stream",
     "text": [
      "4.01 s ± 17.5 ms per loop (mean ± std. dev. of 4 runs, 1 loop each)\n"
     ]
    }
   ],
   "source": [
    "%%timeit -n 1 -r 4\n",
    "forest_model.fit(X_test, y_test)"
   ]
  },
  {
   "cell_type": "code",
   "execution_count": 67,
   "id": "ff1ba292",
   "metadata": {},
   "outputs": [
    {
     "name": "stdout",
     "output_type": "stream",
     "text": [
      "24.4 s ± 60.7 ms per loop (mean ± std. dev. of 4 runs, 1 loop each)\n"
     ]
    }
   ],
   "source": [
    "%%timeit -n 1 -r 4\n",
    "final_model.fit(X_test, y_test)"
   ]
  },
  {
   "cell_type": "markdown",
   "id": "525d0238",
   "metadata": {},
   "source": [
    "## Eval"
   ]
  },
  {
   "cell_type": "code",
   "execution_count": 68,
   "id": "8cb4ae8f",
   "metadata": {},
   "outputs": [
    {
     "name": "stdout",
     "output_type": "stream",
     "text": [
      "Default model :  0.7613404385410366\n",
      "Final model   :  1.2546627915132753\n"
     ]
    }
   ],
   "source": [
    "default_pred = forest_model.predict(X_test)\n",
    "final_pred = final_model.predict(X_test)\n",
    "\n",
    "print(\"Default model : \", mae(y_test, default_pred))\n",
    "print(\"Final model   : \", mae(y_test, final_pred))"
   ]
  },
  {
   "cell_type": "code",
   "execution_count": 71,
   "id": "38a15bfd",
   "metadata": {},
   "outputs": [
    {
     "data": {
      "text/plain": [
       "<matplotlib.legend.Legend at 0x1e92efa2ac0>"
      ]
     },
     "execution_count": 71,
     "metadata": {},
     "output_type": "execute_result"
    },
    {
     "data": {
      "image/png": "[encoded data removed]",
      "text/plain": [
       "<Figure size 576x576 with 1 Axes>"
      ]
     },
     "metadata": {},
     "output_type": "display_data"
    }
   ],
   "source": [
    "figsize(8, 8)\n",
    "\n",
    "sns.kdeplot(final_pred, label = 'Trained')\n",
    "sns.kdeplot(y_test, label = 'Target')\n",
    "sns.kdeplot(default_pred, label = 'Default')\n",
    "\n",
    "plt.xlabel('Average xxx');\n",
    "plt.ylabel('yyy');\n",
    "plt.title('Prediction of xxx');\n",
    "plt.legend()"
   ]
  },
  {
   "cell_type": "markdown",
   "id": "97752d53",
   "metadata": {},
   "source": [
    "**To summarize**:\n",
    "\n",
    "We now finally have a model that can somewhat predict the estimated values of xxx. As we can wee, the default params for the RandomForestRegressor is actually better then what we found experimentally. Improving the prediction % was not the goal of this project. Also, additional time was not used to fine tune the model, nor to find the best params."
   ]
  }
 ],
 "metadata": {
  "kernelspec": {
   "display_name": "Python 3 (ipykernel)",
   "language": "python",
   "name": "python3"
  },
  "language_info": {
   "codemirror_mode": {
    "name": "ipython",
    "version": 3
   },
   "file_extension": ".py",
   "mimetype": "text/x-python",
   "name": "python",
   "nbconvert_exporter": "python",
   "pygments_lexer": "ipython3",
   "version": "3.8.10"
  }
 },
 "nbformat": 4,
 "nbformat_minor": 5
}
